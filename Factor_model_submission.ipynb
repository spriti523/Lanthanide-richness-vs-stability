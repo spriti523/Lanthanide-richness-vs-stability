{
 "cells": [
  {
   "cell_type": "code",
   "execution_count": null,
   "id": "9352f618",
   "metadata": {},
   "outputs": [],
   "source": [
    "import pandas as pd\n",
    "import numpy as np\n",
    "from sklearn.preprocessing import scale\n",
    "import rdata\n",
    "from sklearn.preprocessing import StandardScaler\n",
    "import numpy as np"
   ]
  },
  {
   "cell_type": "code",
   "execution_count": null,
   "id": "85b60fd4",
   "metadata": {},
   "outputs": [],
   "source": [
    "parsed = rdata.parser.parse_file(rdata.TESTDATA_PATH /\"/Users/sampreetibhattacharya/Documents/vestalab/ML_proj/new_xmat.RData\")\n",
    "converted = rdata.conversion.convert(parsed)\n",
    "new_xmat_l = converted[\"new_xmat_l\"]\n",
    "new_xmat_nl= converted[\"new_xmat_nl\"]"
   ]
  },
  {
   "cell_type": "code",
   "execution_count": null,
   "id": "21fce615",
   "metadata": {},
   "outputs": [],
   "source": [
    "# Factor model using sklearn NX100\n",
    "#from sklearn.datasets import load_digits\n",
    "from sklearn.decomposition import FactorAnalysis\n",
    "\n",
    "transformer = FactorAnalysis(n_components=10)#, random_state=0)\n",
    "X_transformed_l = transformer.fit(new_xmat_l)\n",
    "component_l=X_transformed_l.components_\n",
    "X_transformed_nl = transformer.fit(new_xmat_nl)\n",
    "component_nl=X_transformed_nl.components_\n",
    "\n",
    "###########################################Not run#########################################\n",
    "# Save the array to a CSV file\n",
    "# np.savetxt('/Users/sampreetibhattacharya/Documents/vestalab/ML_proj/comp_l_latent.csv', component_l, delimiter=',')\n",
    "# np.savetxt('/Users/sampreetibhattacharya/Documents/vestalab/ML_proj/comp_nl_latent.csv', component_nl, delimiter=',')\n",
    "\n"
   ]
  },
  {
   "cell_type": "code",
   "execution_count": 1,
   "id": "49c37c85",
   "metadata": {},
   "outputs": [
    {
     "data": {
      "text/plain": [
       "'/Users/sampreetibhattacharya/Documents/vestalab/ML_proj'"
      ]
     },
     "execution_count": 1,
     "metadata": {},
     "output_type": "execute_result"
    }
   ],
   "source": []
  },
  {
   "cell_type": "code",
   "execution_count": null,
   "id": "0004e285",
   "metadata": {},
   "outputs": [],
   "source": []
  }
 ],
 "metadata": {
  "kernelspec": {
   "display_name": "Python 3 (ipykernel)",
   "language": "python",
   "name": "python3"
  },
  "language_info": {
   "codemirror_mode": {
    "name": "ipython",
    "version": 3
   },
   "file_extension": ".py",
   "mimetype": "text/x-python",
   "name": "python",
   "nbconvert_exporter": "python",
   "pygments_lexer": "ipython3",
   "version": "3.8.13"
  }
 },
 "nbformat": 4,
 "nbformat_minor": 5
}
